{
  "nbformat": 4,
  "nbformat_minor": 0,
  "metadata": {
    "colab": {
      "name": "PINN-Skandan Subramanian.ipynb",
      "provenance": []
    },
    "kernelspec": {
      "name": "python3",
      "display_name": "Python 3"
    },
    "language_info": {
      "name": "python"
    }
  },
  "cells": [
    {
      "cell_type": "code",
      "execution_count": 1,
      "metadata": {
        "id": "U1Zh1-0UmXlj"
      },
      "outputs": [],
      "source": [
        "from typing import Callable\n",
        "import math\n",
        "import matplotlib.pyplot as plt\n",
        "import torch\n",
        "from scipy.integrate import solve_ivp\n",
        "from torch import nn\n",
        "import numpy as np"
      ]
    },
    {
      "cell_type": "code",
      "source": [
        "class NNApproximator(nn.Module):\n",
        "  def __init__(self, num_hidden: int, dim_hidden: int, act=nn.Tanh()):\n",
        "      super().__init__()\n",
        "\n",
        "      self.layer_in = nn.Linear(1, dim_hidden)\n",
        "      self.layer_out = nn.Linear(dim_hidden, 1)\n",
        "\n",
        "      num_middle = num_hidden - 1\n",
        "      self.middle_layers = nn.ModuleList(\n",
        "              [nn.Linear(dim_hidden, dim_hidden) for _ in range(num_middle)]\n",
        "          )\n",
        "      self.act = act\n",
        "\n",
        "  def forward(self, x):\n",
        "      out = self.act(self.layer_in(x))\n",
        "      for layer in self.middle_layers:\n",
        "          out = self.act(layer(out))\n",
        "      return self.layer_out(out)"
      ],
      "metadata": {
        "id": "P2fnoObRo5Fn"
      },
      "execution_count": 2,
      "outputs": []
    },
    {
      "cell_type": "code",
      "source": [
        "def f(nn: NNApproximator, x: torch.Tensor) -> torch.Tensor:\n",
        "    \"\"\"Compute the value of the approximate solution from the NN model\"\"\"\n",
        "    return nn(x)\n",
        "\n",
        "\n",
        "def df(order, nn: NNApproximator, x: torch.Tensor = None) -> torch.Tensor:\n",
        "    \"\"\"Compute neural network derivative with respect to the input feature(s) using PyTorch autograd engine\"\"\"\n",
        "    df_value = f(nn, x)\n",
        "    for _ in range(order):\n",
        "        df_value = torch.autograd.grad(\n",
        "            df_value,\n",
        "            x,\n",
        "            grad_outputs=torch.ones_like(x),\n",
        "            create_graph=True,\n",
        "            retain_graph=True,\n",
        "        )[0]\n",
        "\n",
        "    return df_value\n",
        "  "
      ],
      "metadata": {
        "id": "b1x-YO8-wekX"
      },
      "execution_count": 3,
      "outputs": []
    },
    {
      "cell_type": "markdown",
      "source": [
        "DE is modified to Harmonic oscillator. As this is second order we need\n",
        "to remove the predefined value of order, We also require 2 boundary conditions"
      ],
      "metadata": {
        "id": "qawPxiOikXP-"
      }
    },
    {
      "cell_type": "code",
      "source": [
        "R = 1.0 # Maximum Growth Rate\n",
        "F0 = 0.0 # Boundary condition \n",
        "F1 = 1.0\n",
        "def compute_loss(\n",
        "    nn: NNApproximator, x: torch.Tensor = None, verbose: bool = False\n",
        ") -> torch.float:\n",
        "    \"\"\"Compute the full loss function as interior loss + boundary loss\n",
        "    This custom loss function is fully defined with differentiable tensors therefore\n",
        "    the .backward() method can be applied to it\n",
        "    \"\"\"\n",
        "\n",
        "    interior_loss = df(1, nn, x) - R * x * (1 - x)\n",
        "\n",
        "    boundary = torch.Tensor([0.0])\n",
        "    boundary.requires_grad = True\n",
        "    boundary_loss = f(nn, boundary) - F0\n",
        "    final_loss = interior_loss.pow(2).mean() + boundary_loss ** 2\n",
        "    return final_loss\n",
        "\n",
        "w = 1\n",
        "def loss2(\n",
        "    nn: NNApproximator, x: torch.Tensor = None, verbose: bool = False\n",
        ") -> torch.float:\n",
        "    \"\"\"Compute the full loss function as interior loss + boundary loss\n",
        "    This custom loss function is fully defined with differentiable tensors therefore\n",
        "    the .backward() method can be applied to it\n",
        "    \"\"\"\n",
        "\n",
        "    interior_loss = df(2, nn, x) + w*w*x\n",
        "\n",
        "    boundary = torch.Tensor([0.0])\n",
        "    boundary.requires_grad = True\n",
        "    boundary_loss1 = f(nn, boundary) - F0\n",
        "    boundary_loss2 = df(1, nn, boundary) - F1\n",
        "    final_loss = interior_loss.pow(2).mean() + boundary_loss1 ** 2 + boundary_loss2**2\n",
        "    return final_loss"
      ],
      "metadata": {
        "id": "7I0HmBXd-Bbh"
      },
      "execution_count": 20,
      "outputs": []
    },
    {
      "cell_type": "code",
      "source": [
        "def train_model(\n",
        "    nn: NNApproximator,\n",
        "    loss_fn: Callable,\n",
        "    learning_rate: int = 0.01,\n",
        "    max_epochs: int = 1_000,\n",
        ") -> NNApproximator:\n",
        "\n",
        "    loss_evolution = []\n",
        "\n",
        "    optimizer = torch.optim.SGD(nn.parameters(), lr=learning_rate)\n",
        "    \n",
        "    for epoch in range(max_epochs):\n",
        "\n",
        "        try:\n",
        "\n",
        "            loss: torch.Tensor = loss_fn(nn)\n",
        "            optimizer.zero_grad()\n",
        "            loss.backward()\n",
        "            optimizer.step()\n",
        "\n",
        "            if epoch % 1000 == 0:\n",
        "                print(f\"Epoch: {epoch} - Loss: {float(loss):>7f}\")\n",
        "\n",
        "            loss_evolution.append(loss.detach().numpy())\n",
        "\n",
        "        except KeyboardInterrupt:\n",
        "            break\n",
        "\n",
        "    return nn, np.array(loss_evolution)\n",
        "  "
      ],
      "metadata": {
        "id": "JMPoeSHKBt1T"
      },
      "execution_count": 21,
      "outputs": []
    },
    {
      "cell_type": "code",
      "source": [
        "\n",
        "def check_gradient(order, nn: NNApproximator, x: torch.Tensor = None) -> bool:\n",
        "\n",
        "    eps = 1e-4\n",
        "    dfdx_fd = (df(1,nn, x + eps) - df(1, nn, x - eps)) / (2 * eps)\n",
        "    dfdx_sample = df(2, nn, x)\n",
        "\n",
        "    return torch.allclose(dfdx_fd.T, dfdx_sample.T, atol=1e-2, rtol=1e-2)\n",
        "\n"
      ],
      "metadata": {
        "id": "ndNTP1Ld1y-4"
      },
      "execution_count": 8,
      "outputs": []
    },
    {
      "cell_type": "code",
      "source": [
        "\n",
        "if __name__ == \"__main__\":\n",
        "    from functools import partial\n",
        "\n",
        "    domain = [0.0, 1]\n",
        "    x = torch.linspace(domain[0], domain[1], steps=10, requires_grad=True)\n",
        "    x = x.reshape(x.shape[0], 1)\n",
        "\n",
        "    nn_approximator = NNApproximator(4, 10)\n",
        "    #nnet = NNApproximator(4, 10)\n",
        "    #assert check_gradient(2, nn_approximator, x)\n",
        "    #assert check_gradient(nnet, x)\n",
        "\n",
        "    # f_initial = f(nn_approximator, x)\n",
        "    # ax.plot(x.detach().numpy(), f_initial.detach().numpy(), label=\"Initial NN solution\")\n",
        "\n",
        "    # train the PINN\n",
        "    loss_fn = partial(loss2, x=x, verbose=True)\n",
        "    nn_approximator_trained, loss_evolution = train_model(\n",
        "        nn_approximator, loss_fn=loss_fn, learning_rate=0.1, max_epochs=20_000\n",
        "    )\n",
        "\n",
        "    # numeric solution\n",
        "    '''\n",
        "    def logistic_eq_fn(x, y):\n",
        "        return R * x * (1 - x)\n",
        "    '''\n",
        "    \n",
        "    '''\n",
        "    numeric_solution = solve_ivp(\n",
        "        sin, domain, [F0], t_eval=x_eval.squeeze().detach().numpy()\n",
        "    )\n",
        "    '''\n",
        "   "
      ],
      "metadata": {
        "colab": {
          "base_uri": "https://localhost:8080/"
        },
        "id": "kbcvbe4Y74zV",
        "outputId": "0f68facd-95bd-45aa-ac50-67f91657b159"
      },
      "execution_count": 25,
      "outputs": [
        {
          "output_type": "stream",
          "name": "stdout",
          "text": [
            "Epoch: 0 - Loss: 1.481168\n",
            "Epoch: 1000 - Loss: 0.000644\n",
            "Epoch: 2000 - Loss: 0.000765\n",
            "Epoch: 3000 - Loss: 0.000493\n",
            "Epoch: 4000 - Loss: 0.000361\n",
            "Epoch: 5000 - Loss: 0.000241\n",
            "Epoch: 6000 - Loss: 0.000157\n",
            "Epoch: 7000 - Loss: 0.000114\n",
            "Epoch: 8000 - Loss: 0.000079\n",
            "Epoch: 9000 - Loss: 0.000058\n",
            "Epoch: 10000 - Loss: 0.000044\n",
            "Epoch: 11000 - Loss: 0.000035\n",
            "Epoch: 12000 - Loss: 0.000028\n",
            "Epoch: 13000 - Loss: 0.000024\n",
            "Epoch: 14000 - Loss: 0.000021\n",
            "Epoch: 15000 - Loss: 0.000019\n",
            "Epoch: 16000 - Loss: 0.000017\n",
            "Epoch: 17000 - Loss: 0.000016\n",
            "Epoch: 18000 - Loss: 0.000015\n",
            "Epoch: 19000 - Loss: 0.000015\n"
          ]
        }
      ]
    },
    {
      "cell_type": "code",
      "source": [
        " # plotting\n",
        " if(1==1):\n",
        "    def sin(x):\n",
        "        return math.sin(x)\n",
        "    x_eval = torch.linspace(domain[0], domain[1], steps=100).reshape(-1, 1)\n",
        "    y_eval = [sin(s) for s in x_eval]\n",
        "\n",
        "    fig, ax = plt.subplots()\n",
        "\n",
        "    f_final_training = f(nn_approximator_trained, x)\n",
        "    f_final = f(nn_approximator_trained, x_eval)\n",
        "\n",
        "    ax.scatter(x.detach().numpy(), f_final_training.detach().numpy(), label=\"Training points\", color=\"red\")\n",
        "    ax.plot(x_eval.detach().numpy(), f_final.detach().numpy(), label=\"NN final solution\")\n",
        "    ax.plot(\n",
        "        x_eval.detach().numpy(),\n",
        "        y_eval,\n",
        "        label=f\"Analytic solution\",\n",
        "        color=\"green\",\n",
        "        alpha=0.75,\n",
        "    )\n",
        "    ax.set(title=\"Harmonic oscillator equation solved with NNs\", xlabel=\"t\", ylabel=\"f(t)\")\n",
        "    ax.legend()\n",
        "\n",
        "    fig, ax = plt.subplots()\n",
        "    ax.semilogy(loss_evolution)\n",
        "    ax.set(title=\"Loss evolution\", xlabel=\"# epochs\", ylabel=\"Loss\")\n",
        "    ax.legend()\n",
        "    plt.show()"
      ],
      "metadata": {
        "colab": {
          "base_uri": "https://localhost:8080/",
          "height": 590
        },
        "id": "tb941pxQb4cd",
        "outputId": "4ea47d18-b873-43f6-f02f-d16116925acb"
      },
      "execution_count": 23,
      "outputs": [
        {
          "output_type": "stream",
          "name": "stderr",
          "text": [
            "No handles with labels found to put in legend.\n"
          ]
        },
        {
          "output_type": "display_data",
          "data": {
            "text/plain": [
              "<Figure size 432x288 with 1 Axes>"
            ],
            "image/png": "[encoded data removed]"
          },
          "metadata": {
            "needs_background": "light"
          }
        },
        {
          "output_type": "display_data",
          "data": {
            "text/plain": [
              "<Figure size 432x288 with 1 Axes>"
            ],
            "image/png": "[encoded data removed]"
          },
          "metadata": {
            "needs_background": "light"
          }
        }
      ]
    }
  ]
}